{
 "cells": [
  {
   "cell_type": "code",
   "execution_count": 1,
   "metadata": {},
   "outputs": [],
   "source": [
    "# Importar bibliotecas necesarias\n",
    "import pandas as pd\n",
    "import mysql.connector\n",
    "import json"
   ]
  },
  {
   "cell_type": "code",
   "execution_count": 16,
   "metadata": {},
   "outputs": [],
   "source": [
    "\n",
    "# Leer el archivo CSV\n",
    "df = pd.read_csv('../data/requests.csv', sep=';')"
   ]
  },
  {
   "cell_type": "code",
   "execution_count": 17,
   "metadata": {},
   "outputs": [
    {
     "data": {
      "text/plain": [
       "Index(['Nº Registro', 'Tipo', 'Estado', 'F.Solicitud', 'Origen', 'Unidad',\n",
       "       'Provincia', 'Referencia', 'F.Resolucion'],\n",
       "      dtype='object')"
      ]
     },
     "execution_count": 17,
     "metadata": {},
     "output_type": "execute_result"
    }
   ],
   "source": [
    "df.columns"
   ]
  },
  {
   "cell_type": "code",
   "execution_count": 15,
   "metadata": {},
   "outputs": [
    {
     "name": "stdout",
     "output_type": "stream",
     "text": [
      "  Nº Registro                Tipo      Estado F.Solicitud        Origen  \\\n",
      "0   2023-1112               Queja  Contestado  2023-12-30         LIBRO   \n",
      "1   2023-1109               Queja  Contestado  2023-12-29  Servicio 012   \n",
      "2   2023-1110               Queja  Contestado  2023-12-29  Servicio 012   \n",
      "3   2023-1111  Sugerencia Interna  Contestado  2023-12-29           WEB   \n",
      "4   2023-1108               Queja  Contestado  2023-12-28  Servicio 012   \n",
      "\n",
      "                              Unidad            Provincia  \\\n",
      "0     GERENCIA DE SERVICIOS SOCIALES              SEGOVIA   \n",
      "1  CONSEJERIA DE ECONOMIA Y HACIENDA               BURGOS   \n",
      "2  CONSEJERIA DE ECONOMIA Y HACIENDA               BURGOS   \n",
      "3              CONSEJERIA DE SANIDAD  SERVICIOS CENTRALES   \n",
      "4     GERENCIA DE SERVICIOS SOCIALES           VALLADOLID   \n",
      "\n",
      "                                          Referencia F.Resolucion  \n",
      "0  El interesado se queja de varias cosas: cenas ...   2024-01-21  \n",
      "1                                 OAMR horario tarde   2024-01-12  \n",
      "2                                 OAMR horario tarde   2024-02-03  \n",
      "3                  Análisis SINTROM en SACYL CONECTA   2024-01-19  \n",
      "4                                                NaN   2024-01-24  \n"
     ]
    }
   ],
   "source": [
    "import pandas as pd\n",
    "import numpy as np\n",
    "from datetime import timedelta\n",
    "import random\n",
    "\n",
    "# Leer el archivo CSV\n",
    "df = pd.read_csv('../data/requests.csv', sep=';')\n",
    "\n",
    "# Suponiendo que ya tienes el dataframe con la columna 'F.solicitud' y 'Estado'\n",
    "df['F.Solicitud'] = pd.to_datetime(df['F.Solicitud'])\n",
    "\n",
    "# Función para generar F.resolucion\n",
    "def generar_fecha_resolucion(row):\n",
    "    if row['Estado'] == 'Contestado':\n",
    "        # Genera un número aleatorio de días entre 5 y 50\n",
    "        dias_random = np.random.randint(5, 51)\n",
    "        # Suma los días a F.solicitud\n",
    "        return row['F.Solicitud'] + pd.Timedelta(days=dias_random)\n",
    "    else:\n",
    "        # Si no está contestado, retorna NaT (Not a Time)\n",
    "        return pd.NaT\n",
    "\n",
    "# Aplicar la función al dataframe para generar la columna F.resolucion\n",
    "df['F.Resolucion'] = df.apply(generar_fecha_resolucion, axis=1)\n",
    "\n",
    "# Guardar los cambios en el archivo CSV\n",
    "df.to_csv('../data/requests_fecha.csv', sep=';', index=False)\n",
    "\n",
    "# Mostrar las primeras filas del DataFrame para verificar\n",
    "print(df.head())\n"
   ]
  },
  {
   "cell_type": "code",
   "execution_count": 5,
   "metadata": {},
   "outputs": [
    {
     "name": "stdout",
     "output_type": "stream",
     "text": [
      "Directorio de trabajo actual: /home/mauro/Data-Engineer/python/citizen-requests-analysis/notebook\n"
     ]
    }
   ],
   "source": [
    "import os\n",
    "print(f\"Directorio de trabajo actual: {os.getcwd()}\")\n"
   ]
  },
  {
   "cell_type": "code",
   "execution_count": 4,
   "metadata": {},
   "outputs": [
    {
     "data": {
      "text/plain": [
       "Index(['Nº Registro', 'Tipo', 'Estado', 'F.Solicitud', 'Origen', 'Unidad',\n",
       "       'Provincia', 'Referencia'],\n",
       "      dtype='object')"
      ]
     },
     "execution_count": 4,
     "metadata": {},
     "output_type": "execute_result"
    }
   ],
   "source": [
    "df.columns"
   ]
  },
  {
   "cell_type": "code",
   "execution_count": 5,
   "metadata": {},
   "outputs": [
    {
     "data": {
      "text/html": [
       "<div>\n",
       "<style scoped>\n",
       "    .dataframe tbody tr th:only-of-type {\n",
       "        vertical-align: middle;\n",
       "    }\n",
       "\n",
       "    .dataframe tbody tr th {\n",
       "        vertical-align: top;\n",
       "    }\n",
       "\n",
       "    .dataframe thead th {\n",
       "        text-align: right;\n",
       "    }\n",
       "</style>\n",
       "<table border=\"1\" class=\"dataframe\">\n",
       "  <thead>\n",
       "    <tr style=\"text-align: right;\">\n",
       "      <th></th>\n",
       "      <th>Nº Registro</th>\n",
       "      <th>Tipo</th>\n",
       "      <th>Estado</th>\n",
       "      <th>F.Solicitud</th>\n",
       "      <th>Origen</th>\n",
       "      <th>Unidad</th>\n",
       "      <th>Provincia</th>\n",
       "      <th>Referencia</th>\n",
       "    </tr>\n",
       "  </thead>\n",
       "  <tbody>\n",
       "    <tr>\n",
       "      <th>0</th>\n",
       "      <td>2023-1112</td>\n",
       "      <td>Queja</td>\n",
       "      <td>Contestado</td>\n",
       "      <td>2023-12-30</td>\n",
       "      <td>LIBRO</td>\n",
       "      <td>GERENCIA DE SERVICIOS SOCIALES</td>\n",
       "      <td>SEGOVIA</td>\n",
       "      <td>El interesado se queja de varias cosas: cenas ...</td>\n",
       "    </tr>\n",
       "    <tr>\n",
       "      <th>1</th>\n",
       "      <td>2023-1109</td>\n",
       "      <td>Queja</td>\n",
       "      <td>Contestado</td>\n",
       "      <td>2023-12-29</td>\n",
       "      <td>Servicio 012</td>\n",
       "      <td>CONSEJERIA DE ECONOMIA Y HACIENDA</td>\n",
       "      <td>BURGOS</td>\n",
       "      <td>OAMR horario tarde</td>\n",
       "    </tr>\n",
       "    <tr>\n",
       "      <th>2</th>\n",
       "      <td>2023-1110</td>\n",
       "      <td>Queja</td>\n",
       "      <td>Contestado</td>\n",
       "      <td>2023-12-29</td>\n",
       "      <td>Servicio 012</td>\n",
       "      <td>CONSEJERIA DE ECONOMIA Y HACIENDA</td>\n",
       "      <td>BURGOS</td>\n",
       "      <td>OAMR horario tarde</td>\n",
       "    </tr>\n",
       "    <tr>\n",
       "      <th>3</th>\n",
       "      <td>2023-1111</td>\n",
       "      <td>Sugerencia Interna</td>\n",
       "      <td>Contestado</td>\n",
       "      <td>2023-12-29</td>\n",
       "      <td>WEB</td>\n",
       "      <td>CONSEJERIA DE SANIDAD</td>\n",
       "      <td>SERVICIOS CENTRALES</td>\n",
       "      <td>Análisis SINTROM en SACYL CONECTA</td>\n",
       "    </tr>\n",
       "    <tr>\n",
       "      <th>4</th>\n",
       "      <td>2023-1108</td>\n",
       "      <td>Queja</td>\n",
       "      <td>Contestado</td>\n",
       "      <td>2023-12-28</td>\n",
       "      <td>Servicio 012</td>\n",
       "      <td>GERENCIA DE SERVICIOS SOCIALES</td>\n",
       "      <td>VALLADOLID</td>\n",
       "      <td>NaN</td>\n",
       "    </tr>\n",
       "    <tr>\n",
       "      <th>...</th>\n",
       "      <td>...</td>\n",
       "      <td>...</td>\n",
       "      <td>...</td>\n",
       "      <td>...</td>\n",
       "      <td>...</td>\n",
       "      <td>...</td>\n",
       "      <td>...</td>\n",
       "      <td>...</td>\n",
       "    </tr>\n",
       "    <tr>\n",
       "      <th>4457</th>\n",
       "      <td>2020-0007</td>\n",
       "      <td>Queja</td>\n",
       "      <td>Contestado</td>\n",
       "      <td>2020-01-04</td>\n",
       "      <td>LIBRO</td>\n",
       "      <td>CONSEJERIA DE CULTURA Y TURISMO</td>\n",
       "      <td>SERVICIOS CENTRALES</td>\n",
       "      <td>CALEFACCIÓN AVERIADA</td>\n",
       "    </tr>\n",
       "    <tr>\n",
       "      <th>4458</th>\n",
       "      <td>2020-0005</td>\n",
       "      <td>Queja</td>\n",
       "      <td>Contestado</td>\n",
       "      <td>2020-01-04</td>\n",
       "      <td>LIBRO</td>\n",
       "      <td>CONSEJERIA DE CULTURA Y TURISMO</td>\n",
       "      <td>SERVICIOS CENTRALES</td>\n",
       "      <td>FALLOS CALEFACCIÓN</td>\n",
       "    </tr>\n",
       "    <tr>\n",
       "      <th>4459</th>\n",
       "      <td>2020-0003</td>\n",
       "      <td>Queja</td>\n",
       "      <td>Contestado</td>\n",
       "      <td>2020-01-03</td>\n",
       "      <td>LIBRO</td>\n",
       "      <td>CONSEJERIA DE EDUCACION Y CULTURA</td>\n",
       "      <td>SEGOVIA</td>\n",
       "      <td>El interesado se queja de la ocupación de los ...</td>\n",
       "    </tr>\n",
       "    <tr>\n",
       "      <th>4460</th>\n",
       "      <td>2020-0002</td>\n",
       "      <td>Queja</td>\n",
       "      <td>Contestado</td>\n",
       "      <td>2020-01-03</td>\n",
       "      <td>WEB</td>\n",
       "      <td>CONSEJERIA DE CULTURA Y TURISMO</td>\n",
       "      <td>LEÓN</td>\n",
       "      <td>Progamación clases esqui incumplidas y falta c...</td>\n",
       "    </tr>\n",
       "    <tr>\n",
       "      <th>4461</th>\n",
       "      <td>2020-0001</td>\n",
       "      <td>Sugerencia</td>\n",
       "      <td>Contestado</td>\n",
       "      <td>2020-01-01</td>\n",
       "      <td>LIBRO</td>\n",
       "      <td>CONSEJERIA DE CULTURA Y TURISMO</td>\n",
       "      <td>SERVICIOS CENTRALES</td>\n",
       "      <td>AMPLIEN EL NUMERO DE DVD PARA SACAR</td>\n",
       "    </tr>\n",
       "  </tbody>\n",
       "</table>\n",
       "<p>4462 rows × 8 columns</p>\n",
       "</div>"
      ],
      "text/plain": [
       "     Nº Registro                Tipo      Estado F.Solicitud        Origen  \\\n",
       "0      2023-1112               Queja  Contestado  2023-12-30         LIBRO   \n",
       "1      2023-1109               Queja  Contestado  2023-12-29  Servicio 012   \n",
       "2      2023-1110               Queja  Contestado  2023-12-29  Servicio 012   \n",
       "3      2023-1111  Sugerencia Interna  Contestado  2023-12-29           WEB   \n",
       "4      2023-1108               Queja  Contestado  2023-12-28  Servicio 012   \n",
       "...          ...                 ...         ...         ...           ...   \n",
       "4457   2020-0007               Queja  Contestado  2020-01-04         LIBRO   \n",
       "4458   2020-0005               Queja  Contestado  2020-01-04         LIBRO   \n",
       "4459   2020-0003               Queja  Contestado  2020-01-03         LIBRO   \n",
       "4460   2020-0002               Queja  Contestado  2020-01-03           WEB   \n",
       "4461   2020-0001          Sugerencia  Contestado  2020-01-01         LIBRO   \n",
       "\n",
       "                                 Unidad            Provincia  \\\n",
       "0        GERENCIA DE SERVICIOS SOCIALES              SEGOVIA   \n",
       "1     CONSEJERIA DE ECONOMIA Y HACIENDA               BURGOS   \n",
       "2     CONSEJERIA DE ECONOMIA Y HACIENDA               BURGOS   \n",
       "3                 CONSEJERIA DE SANIDAD  SERVICIOS CENTRALES   \n",
       "4        GERENCIA DE SERVICIOS SOCIALES           VALLADOLID   \n",
       "...                                 ...                  ...   \n",
       "4457    CONSEJERIA DE CULTURA Y TURISMO  SERVICIOS CENTRALES   \n",
       "4458    CONSEJERIA DE CULTURA Y TURISMO  SERVICIOS CENTRALES   \n",
       "4459  CONSEJERIA DE EDUCACION Y CULTURA              SEGOVIA   \n",
       "4460    CONSEJERIA DE CULTURA Y TURISMO                 LEÓN   \n",
       "4461    CONSEJERIA DE CULTURA Y TURISMO  SERVICIOS CENTRALES   \n",
       "\n",
       "                                             Referencia  \n",
       "0     El interesado se queja de varias cosas: cenas ...  \n",
       "1                                    OAMR horario tarde  \n",
       "2                                    OAMR horario tarde  \n",
       "3                     Análisis SINTROM en SACYL CONECTA  \n",
       "4                                                   NaN  \n",
       "...                                                 ...  \n",
       "4457                               CALEFACCIÓN AVERIADA  \n",
       "4458                                 FALLOS CALEFACCIÓN  \n",
       "4459  El interesado se queja de la ocupación de los ...  \n",
       "4460  Progamación clases esqui incumplidas y falta c...  \n",
       "4461                AMPLIEN EL NUMERO DE DVD PARA SACAR  \n",
       "\n",
       "[4462 rows x 8 columns]"
      ]
     },
     "execution_count": 5,
     "metadata": {},
     "output_type": "execute_result"
    }
   ],
   "source": [
    "df.drop_duplicates()"
   ]
  },
  {
   "cell_type": "code",
   "execution_count": 6,
   "metadata": {},
   "outputs": [],
   "source": [
    "# Conexión a MySQL\n",
    "DB_CONFIG = {\n",
    "    'host': 'localhost',\n",
    "    'user': 'user',\n",
    "    'password': 'password',\n",
    "    'database': 'data_db'\n",
    "}\n"
   ]
  },
  {
   "cell_type": "code",
   "execution_count": 7,
   "metadata": {},
   "outputs": [
    {
     "ename": "ProgrammingError",
     "evalue": "1045 (28000): Access denied for user 'user'@'localhost' (using password: YES)",
     "output_type": "error",
     "traceback": [
      "\u001b[0;31m---------------------------------------------------------------------------\u001b[0m",
      "\u001b[0;31mMySQLInterfaceError\u001b[0m                       Traceback (most recent call last)",
      "File \u001b[0;32m~/Data-Engineer/python/citizen-requests-analysis/myenv/lib/python3.12/site-packages/mysql/connector/connection_cext.py:334\u001b[0m, in \u001b[0;36mCMySQLConnection._open_connection\u001b[0;34m(self)\u001b[0m\n\u001b[1;32m    333\u001b[0m \u001b[38;5;28;01mtry\u001b[39;00m:\n\u001b[0;32m--> 334\u001b[0m     \u001b[38;5;28;43mself\u001b[39;49m\u001b[38;5;241;43m.\u001b[39;49m\u001b[43m_cmysql\u001b[49m\u001b[38;5;241;43m.\u001b[39;49m\u001b[43mconnect\u001b[49m\u001b[43m(\u001b[49m\u001b[38;5;241;43m*\u001b[39;49m\u001b[38;5;241;43m*\u001b[39;49m\u001b[43mcnx_kwargs\u001b[49m\u001b[43m)\u001b[49m\n\u001b[1;32m    335\u001b[0m     \u001b[38;5;28mself\u001b[39m\u001b[38;5;241m.\u001b[39m_cmysql\u001b[38;5;241m.\u001b[39mconverter_str_fallback \u001b[38;5;241m=\u001b[39m \u001b[38;5;28mself\u001b[39m\u001b[38;5;241m.\u001b[39m_converter_str_fallback\n",
      "\u001b[0;31mMySQLInterfaceError\u001b[0m: Access denied for user 'user'@'localhost' (using password: YES)",
      "\nThe above exception was the direct cause of the following exception:\n",
      "\u001b[0;31mProgrammingError\u001b[0m                          Traceback (most recent call last)",
      "Cell \u001b[0;32mIn[7], line 2\u001b[0m\n\u001b[1;32m      1\u001b[0m \u001b[38;5;66;03m# Creación de la conexión a MySQL\u001b[39;00m\n\u001b[0;32m----> 2\u001b[0m connection \u001b[38;5;241m=\u001b[39m \u001b[43mmysql\u001b[49m\u001b[38;5;241;43m.\u001b[39;49m\u001b[43mconnector\u001b[49m\u001b[38;5;241;43m.\u001b[39;49m\u001b[43mconnect\u001b[49m\u001b[43m(\u001b[49m\n\u001b[1;32m      3\u001b[0m \u001b[43m    \u001b[49m\u001b[43mhost\u001b[49m\u001b[38;5;241;43m=\u001b[39;49m\u001b[43mDB_CONFIG\u001b[49m\u001b[43m[\u001b[49m\u001b[38;5;124;43m'\u001b[39;49m\u001b[38;5;124;43mhost\u001b[39;49m\u001b[38;5;124;43m'\u001b[39;49m\u001b[43m]\u001b[49m\u001b[43m,\u001b[49m\n\u001b[1;32m      4\u001b[0m \u001b[43m    \u001b[49m\u001b[43muser\u001b[49m\u001b[38;5;241;43m=\u001b[39;49m\u001b[43mDB_CONFIG\u001b[49m\u001b[43m[\u001b[49m\u001b[38;5;124;43m'\u001b[39;49m\u001b[38;5;124;43muser\u001b[39;49m\u001b[38;5;124;43m'\u001b[39;49m\u001b[43m]\u001b[49m\u001b[43m,\u001b[49m\n\u001b[1;32m      5\u001b[0m \u001b[43m    \u001b[49m\u001b[43mpassword\u001b[49m\u001b[38;5;241;43m=\u001b[39;49m\u001b[43mDB_CONFIG\u001b[49m\u001b[43m[\u001b[49m\u001b[38;5;124;43m'\u001b[39;49m\u001b[38;5;124;43mpassword\u001b[39;49m\u001b[38;5;124;43m'\u001b[39;49m\u001b[43m]\u001b[49m\u001b[43m,\u001b[49m\n\u001b[1;32m      6\u001b[0m \u001b[43m    \u001b[49m\u001b[43mdatabase\u001b[49m\u001b[38;5;241;43m=\u001b[39;49m\u001b[43mDB_CONFIG\u001b[49m\u001b[43m[\u001b[49m\u001b[38;5;124;43m'\u001b[39;49m\u001b[38;5;124;43mdatabase\u001b[39;49m\u001b[38;5;124;43m'\u001b[39;49m\u001b[43m]\u001b[49m\n\u001b[1;32m      7\u001b[0m \u001b[43m)\u001b[49m\n\u001b[1;32m      8\u001b[0m cursor \u001b[38;5;241m=\u001b[39m connection\u001b[38;5;241m.\u001b[39mcursor()\n",
      "File \u001b[0;32m~/Data-Engineer/python/citizen-requests-analysis/myenv/lib/python3.12/site-packages/mysql/connector/pooling.py:322\u001b[0m, in \u001b[0;36mconnect\u001b[0;34m(*args, **kwargs)\u001b[0m\n\u001b[1;32m    319\u001b[0m         \u001b[38;5;28;01mraise\u001b[39;00m \u001b[38;5;167;01mImportError\u001b[39;00m(ERROR_NO_CEXT)\n\u001b[1;32m    321\u001b[0m \u001b[38;5;28;01mif\u001b[39;00m CMySQLConnection \u001b[38;5;129;01mand\u001b[39;00m \u001b[38;5;129;01mnot\u001b[39;00m use_pure:\n\u001b[0;32m--> 322\u001b[0m     \u001b[38;5;28;01mreturn\u001b[39;00m \u001b[43mCMySQLConnection\u001b[49m\u001b[43m(\u001b[49m\u001b[38;5;241;43m*\u001b[39;49m\u001b[43margs\u001b[49m\u001b[43m,\u001b[49m\u001b[43m \u001b[49m\u001b[38;5;241;43m*\u001b[39;49m\u001b[38;5;241;43m*\u001b[39;49m\u001b[43mkwargs\u001b[49m\u001b[43m)\u001b[49m\n\u001b[1;32m    323\u001b[0m \u001b[38;5;28;01mreturn\u001b[39;00m MySQLConnection(\u001b[38;5;241m*\u001b[39margs, \u001b[38;5;241m*\u001b[39m\u001b[38;5;241m*\u001b[39mkwargs)\n",
      "File \u001b[0;32m~/Data-Engineer/python/citizen-requests-analysis/myenv/lib/python3.12/site-packages/mysql/connector/connection_cext.py:151\u001b[0m, in \u001b[0;36mCMySQLConnection.__init__\u001b[0;34m(self, **kwargs)\u001b[0m\n\u001b[1;32m    149\u001b[0m \u001b[38;5;28;01mif\u001b[39;00m kwargs:\n\u001b[1;32m    150\u001b[0m     \u001b[38;5;28;01mtry\u001b[39;00m:\n\u001b[0;32m--> 151\u001b[0m         \u001b[38;5;28;43mself\u001b[39;49m\u001b[38;5;241;43m.\u001b[39;49m\u001b[43mconnect\u001b[49m\u001b[43m(\u001b[49m\u001b[38;5;241;43m*\u001b[39;49m\u001b[38;5;241;43m*\u001b[39;49m\u001b[43mkwargs\u001b[49m\u001b[43m)\u001b[49m\n\u001b[1;32m    152\u001b[0m     \u001b[38;5;28;01mexcept\u001b[39;00m \u001b[38;5;167;01mException\u001b[39;00m:\n\u001b[1;32m    153\u001b[0m         \u001b[38;5;28mself\u001b[39m\u001b[38;5;241m.\u001b[39mclose()\n",
      "File \u001b[0;32m~/Data-Engineer/python/citizen-requests-analysis/myenv/lib/python3.12/site-packages/mysql/connector/abstracts.py:1399\u001b[0m, in \u001b[0;36mMySQLConnectionAbstract.connect\u001b[0;34m(self, **kwargs)\u001b[0m\n\u001b[1;32m   1396\u001b[0m     \u001b[38;5;28mself\u001b[39m\u001b[38;5;241m.\u001b[39mconfig(\u001b[38;5;241m*\u001b[39m\u001b[38;5;241m*\u001b[39mkwargs)\n\u001b[1;32m   1398\u001b[0m \u001b[38;5;28mself\u001b[39m\u001b[38;5;241m.\u001b[39mdisconnect()\n\u001b[0;32m-> 1399\u001b[0m \u001b[38;5;28;43mself\u001b[39;49m\u001b[38;5;241;43m.\u001b[39;49m\u001b[43m_open_connection\u001b[49m\u001b[43m(\u001b[49m\u001b[43m)\u001b[49m\n\u001b[1;32m   1401\u001b[0m charset, collation \u001b[38;5;241m=\u001b[39m (\n\u001b[1;32m   1402\u001b[0m     kwargs\u001b[38;5;241m.\u001b[39mpop(\u001b[38;5;124m\"\u001b[39m\u001b[38;5;124mcharset\u001b[39m\u001b[38;5;124m\"\u001b[39m, \u001b[38;5;28;01mNone\u001b[39;00m),\n\u001b[1;32m   1403\u001b[0m     kwargs\u001b[38;5;241m.\u001b[39mpop(\u001b[38;5;124m\"\u001b[39m\u001b[38;5;124mcollation\u001b[39m\u001b[38;5;124m\"\u001b[39m, \u001b[38;5;28;01mNone\u001b[39;00m),\n\u001b[1;32m   1404\u001b[0m )\n\u001b[1;32m   1405\u001b[0m \u001b[38;5;28;01mif\u001b[39;00m charset \u001b[38;5;129;01mor\u001b[39;00m collation:\n",
      "File \u001b[0;32m~/Data-Engineer/python/citizen-requests-analysis/myenv/lib/python3.12/site-packages/mysql/connector/connection_cext.py:339\u001b[0m, in \u001b[0;36mCMySQLConnection._open_connection\u001b[0;34m(self)\u001b[0m\n\u001b[1;32m    337\u001b[0m         \u001b[38;5;28mself\u001b[39m\u001b[38;5;241m.\u001b[39mconverter\u001b[38;5;241m.\u001b[39mstr_fallback \u001b[38;5;241m=\u001b[39m \u001b[38;5;28mself\u001b[39m\u001b[38;5;241m.\u001b[39m_converter_str_fallback\n\u001b[1;32m    338\u001b[0m \u001b[38;5;28;01mexcept\u001b[39;00m MySQLInterfaceError \u001b[38;5;28;01mas\u001b[39;00m err:\n\u001b[0;32m--> 339\u001b[0m     \u001b[38;5;28;01mraise\u001b[39;00m get_mysql_exception(\n\u001b[1;32m    340\u001b[0m         msg\u001b[38;5;241m=\u001b[39merr\u001b[38;5;241m.\u001b[39mmsg, errno\u001b[38;5;241m=\u001b[39merr\u001b[38;5;241m.\u001b[39merrno, sqlstate\u001b[38;5;241m=\u001b[39merr\u001b[38;5;241m.\u001b[39msqlstate\n\u001b[1;32m    341\u001b[0m     ) \u001b[38;5;28;01mfrom\u001b[39;00m \u001b[38;5;21;01merr\u001b[39;00m\n\u001b[1;32m    343\u001b[0m \u001b[38;5;28mself\u001b[39m\u001b[38;5;241m.\u001b[39m_do_handshake()\n\u001b[1;32m    345\u001b[0m \u001b[38;5;28;01mif\u001b[39;00m (\n\u001b[1;32m    346\u001b[0m     \u001b[38;5;129;01mnot\u001b[39;00m \u001b[38;5;28mself\u001b[39m\u001b[38;5;241m.\u001b[39m_ssl_disabled\n\u001b[1;32m    347\u001b[0m     \u001b[38;5;129;01mand\u001b[39;00m \u001b[38;5;28mhasattr\u001b[39m(\u001b[38;5;28mself\u001b[39m\u001b[38;5;241m.\u001b[39m_cmysql, \u001b[38;5;124m\"\u001b[39m\u001b[38;5;124mget_ssl_cipher\u001b[39m\u001b[38;5;124m\"\u001b[39m)\n\u001b[0;32m   (...)\u001b[0m\n\u001b[1;32m    352\u001b[0m \n\u001b[1;32m    353\u001b[0m     \u001b[38;5;66;03m# `get_ssl_cipher()` returns the name of the cipher being used.\u001b[39;00m\n",
      "\u001b[0;31mProgrammingError\u001b[0m: 1045 (28000): Access denied for user 'user'@'localhost' (using password: YES)"
     ]
    }
   ],
   "source": [
    "\n",
    "# Creación de la conexión a MySQL\n",
    "connection = mysql.connector.connect(\n",
    "    host=DB_CONFIG['host'],\n",
    "    user=DB_CONFIG['user'],\n",
    "    password=DB_CONFIG['password'],\n",
    "    database=DB_CONFIG['database']\n",
    ")\n",
    "cursor = connection.cursor()"
   ]
  },
  {
   "cell_type": "code",
   "execution_count": null,
   "metadata": {},
   "outputs": [],
   "source": [
    "create_tables_sql = [\n",
    "    \"\"\"\n",
    "    CREATE TABLE IF NOT EXISTS kpi_volumen_pendientes (\n",
    "        trimestre INT,\n",
    "        año INT,\n",
    "        volumen_pendientes INT,\n",
    "        total_solicitudes INT,\n",
    "        porcentaje_pendientes DECIMAL(5, 2),\n",
    "        objetivo DECIMAL(5, 2) DEFAULT 10,\n",
    "        PRIMARY KEY (trimestre, año)\n",
    "    )\n",
    "    \"\"\",\n",
    "    \"\"\"\n",
    "    CREATE TABLE IF NOT EXISTS kpi_porcentaje_resueltas (\n",
    "        trimestre INT,\n",
    "        año INT,\n",
    "        porcentaje_resueltas DECIMAL(5, 2),\n",
    "        objetivo DECIMAL(5, 2) DEFAULT 90,\n",
    "        PRIMARY KEY (trimestre, año)\n",
    "    )\n",
    "    \"\"\",\n",
    "    \"\"\"\n",
    "    CREATE TABLE IF NOT EXISTS kpi_distribucion_origen (\n",
    "        trimestre INT,\n",
    "        año INT,\n",
    "        origen VARCHAR(50),\n",
    "        cantidad INT,\n",
    "        total_solicitudes INT,\n",
    "        porcentaje DECIMAL(5, 2),\n",
    "        objetivo DECIMAL(5, 2),\n",
    "        PRIMARY KEY (trimestre, año, origen)\n",
    "    )\n",
    "    \"\"\"\n",
    "]\n",
    "\n",
    "# Ejecutar cada consulta individualmente\n",
    "for query in create_tables_sql:\n",
    "    cursor.execute(query)\n"
   ]
  },
  {
   "cell_type": "code",
   "execution_count": 3,
   "metadata": {},
   "outputs": [
    {
     "data": {
      "text/plain": [
       "array(['LIBRO', 'Servicio 012', 'WEB', 'ESCRITO', 'OAMR', 'BUZON', 'FAX'],\n",
       "      dtype=object)"
      ]
     },
     "execution_count": 3,
     "metadata": {},
     "output_type": "execute_result"
    }
   ],
   "source": [
    "df['Origen'].unique(\n",
    "\n",
    ")"
   ]
  },
  {
   "cell_type": "code",
   "execution_count": 18,
   "metadata": {},
   "outputs": [
    {
     "data": {
      "text/plain": [
       "array(['Contestado', 'Prestacional', 'Anulada', 'Remitida Órgano',\n",
       "       'Tributos', 'Remitido Órgano', 'Inadmitida', 'Remitido a Cons/DT',\n",
       "       'Rechazado', 'Recibido'], dtype=object)"
      ]
     },
     "execution_count": 18,
     "metadata": {},
     "output_type": "execute_result"
    }
   ],
   "source": [
    "df['Estado'].unique(\n",
    "\n",
    ")"
   ]
  },
  {
   "cell_type": "markdown",
   "metadata": {},
   "source": [
    "KPI 1: Volumen de Solicitudes Pendientes"
   ]
  },
  {
   "cell_type": "code",
   "execution_count": 9,
   "metadata": {},
   "outputs": [
    {
     "ename": "NameError",
     "evalue": "name 'cursor' is not defined",
     "output_type": "error",
     "traceback": [
      "\u001b[0;31m---------------------------------------------------------------------------\u001b[0m",
      "\u001b[0;31mNameError\u001b[0m                                 Traceback (most recent call last)",
      "Cell \u001b[0;32mIn[9], line 22\u001b[0m\n\u001b[1;32m     20\u001b[0m \u001b[38;5;66;03m# Inserción en la tabla kpi_volumen_pendientes\u001b[39;00m\n\u001b[1;32m     21\u001b[0m \u001b[38;5;28;01mfor\u001b[39;00m index, row \u001b[38;5;129;01min\u001b[39;00m kpi_volumen\u001b[38;5;241m.\u001b[39miterrows():\n\u001b[0;32m---> 22\u001b[0m     \u001b[43mcursor\u001b[49m\u001b[38;5;241m.\u001b[39mexecute(\u001b[38;5;124m\"\"\"\u001b[39m\n\u001b[1;32m     23\u001b[0m \u001b[38;5;124m    INSERT INTO kpi_volumen_pendientes (trimestre, año, volumen_pendientes, total_solicitudes, porcentaje_pendientes, objetivo)\u001b[39m\n\u001b[1;32m     24\u001b[0m \u001b[38;5;124m    VALUES (\u001b[39m\u001b[38;5;132;01m%s\u001b[39;00m\u001b[38;5;124m, \u001b[39m\u001b[38;5;132;01m%s\u001b[39;00m\u001b[38;5;124m, \u001b[39m\u001b[38;5;132;01m%s\u001b[39;00m\u001b[38;5;124m, \u001b[39m\u001b[38;5;132;01m%s\u001b[39;00m\u001b[38;5;124m, \u001b[39m\u001b[38;5;132;01m%s\u001b[39;00m\u001b[38;5;124m, \u001b[39m\u001b[38;5;132;01m%s\u001b[39;00m\u001b[38;5;124m)\u001b[39m\n\u001b[1;32m     25\u001b[0m \u001b[38;5;124m    \u001b[39m\u001b[38;5;124m\"\"\"\u001b[39m, (row[\u001b[38;5;124m'\u001b[39m\u001b[38;5;124mtrimestre\u001b[39m\u001b[38;5;124m'\u001b[39m], row[\u001b[38;5;124m'\u001b[39m\u001b[38;5;124maño\u001b[39m\u001b[38;5;124m'\u001b[39m], row[\u001b[38;5;124m'\u001b[39m\u001b[38;5;124mvolumen_pendientes\u001b[39m\u001b[38;5;124m'\u001b[39m], row[\u001b[38;5;124m'\u001b[39m\u001b[38;5;124mtotal_solicitudes\u001b[39m\u001b[38;5;124m'\u001b[39m], row[\u001b[38;5;124m'\u001b[39m\u001b[38;5;124mporcentaje_pendientes\u001b[39m\u001b[38;5;124m'\u001b[39m], row[\u001b[38;5;124m'\u001b[39m\u001b[38;5;124mobjetivo\u001b[39m\u001b[38;5;124m'\u001b[39m]))\n\u001b[1;32m     27\u001b[0m connection\u001b[38;5;241m.\u001b[39mcommit()\n",
      "\u001b[0;31mNameError\u001b[0m: name 'cursor' is not defined"
     ]
    }
   ],
   "source": [
    "# Asumiendo que tu DataFrame es df\n",
    "df['F.Solicitud'] = pd.to_datetime(df['F.Solicitud'])\n",
    "\n",
    "# Agrupar por trimestre y año\n",
    "df['trimestre'] = df['F.Solicitud'].dt.to_period('Q').dt.quarter\n",
    "df['año'] = df['F.Solicitud'].dt.year\n",
    "\n",
    "# KPI 1: Volumen de Solicitudes Pendientes\n",
    "kpi_volumen = df.groupby(['trimestre', 'año']).agg(\n",
    "    volumen_pendientes=pd.NamedAgg(column='Estado', aggfunc=lambda x: (x != 'Contestado').sum()),\n",
    "    total_solicitudes=pd.NamedAgg(column='Estado', aggfunc='count')\n",
    ").reset_index()\n",
    "\n",
    "# Calcular porcentaje de pendientes\n",
    "kpi_volumen['porcentaje_pendientes'] = (kpi_volumen['volumen_pendientes'] / kpi_volumen['total_solicitudes']) * 100\n",
    "\n",
    "# Establecer el objetivo (porcentaje de pendientes)\n",
    "kpi_volumen['objetivo'] = 10  # Ejemplo de objetivo: 10%\n",
    "\n",
    "# Inserción en la tabla kpi_volumen_pendientes\n",
    "for index, row in kpi_volumen.iterrows():\n",
    "    cursor.execute(\"\"\"\n",
    "    INSERT INTO kpi_volumen_pendientes (trimestre, año, volumen_pendientes, total_solicitudes, porcentaje_pendientes, objetivo)\n",
    "    VALUES (%s, %s, %s, %s, %s, %s)\n",
    "    \"\"\", (row['trimestre'], row['año'], row['volumen_pendientes'], row['total_solicitudes'], row['porcentaje_pendientes'], row['objetivo']))\n",
    "\n",
    "connection.commit()"
   ]
  },
  {
   "cell_type": "markdown",
   "metadata": {},
   "source": [
    "KPI 2: Porcentaje de Solicitudes Resueltas"
   ]
  },
  {
   "cell_type": "code",
   "execution_count": 10,
   "metadata": {},
   "outputs": [
    {
     "ename": "NameError",
     "evalue": "name 'cursor' is not defined",
     "output_type": "error",
     "traceback": [
      "\u001b[0;31m---------------------------------------------------------------------------\u001b[0m",
      "\u001b[0;31mNameError\u001b[0m                                 Traceback (most recent call last)",
      "Cell \u001b[0;32mIn[10], line 11\u001b[0m\n\u001b[1;32m      9\u001b[0m \u001b[38;5;66;03m# Inserción en la tabla kpi_porcentaje_resueltas\u001b[39;00m\n\u001b[1;32m     10\u001b[0m \u001b[38;5;28;01mfor\u001b[39;00m index, row \u001b[38;5;129;01min\u001b[39;00m kpi_resueltas\u001b[38;5;241m.\u001b[39miterrows():\n\u001b[0;32m---> 11\u001b[0m     \u001b[43mcursor\u001b[49m\u001b[38;5;241m.\u001b[39mexecute(\u001b[38;5;124m\"\"\"\u001b[39m\n\u001b[1;32m     12\u001b[0m \u001b[38;5;124m    INSERT INTO kpi_porcentaje_resueltas (trimestre, año, porcentaje_resueltas, objetivo)\u001b[39m\n\u001b[1;32m     13\u001b[0m \u001b[38;5;124m    VALUES (\u001b[39m\u001b[38;5;132;01m%s\u001b[39;00m\u001b[38;5;124m, \u001b[39m\u001b[38;5;132;01m%s\u001b[39;00m\u001b[38;5;124m, \u001b[39m\u001b[38;5;132;01m%s\u001b[39;00m\u001b[38;5;124m, \u001b[39m\u001b[38;5;132;01m%s\u001b[39;00m\u001b[38;5;124m)\u001b[39m\n\u001b[1;32m     14\u001b[0m \u001b[38;5;124m    \u001b[39m\u001b[38;5;124m\"\"\"\u001b[39m, (row[\u001b[38;5;124m'\u001b[39m\u001b[38;5;124mtrimestre\u001b[39m\u001b[38;5;124m'\u001b[39m], row[\u001b[38;5;124m'\u001b[39m\u001b[38;5;124maño\u001b[39m\u001b[38;5;124m'\u001b[39m], row[\u001b[38;5;124m'\u001b[39m\u001b[38;5;124mporcentaje_resueltas\u001b[39m\u001b[38;5;124m'\u001b[39m], row[\u001b[38;5;124m'\u001b[39m\u001b[38;5;124mobjetivo\u001b[39m\u001b[38;5;124m'\u001b[39m]))\n\u001b[1;32m     16\u001b[0m connection\u001b[38;5;241m.\u001b[39mcommit()\n",
      "\u001b[0;31mNameError\u001b[0m: name 'cursor' is not defined"
     ]
    }
   ],
   "source": [
    "# KPI 2: Porcentaje de Solicitudes Resueltas\n",
    "kpi_resueltas = df.groupby(['trimestre', 'año']).agg(\n",
    "    porcentaje_resueltas=pd.NamedAgg(column='Estado', aggfunc=lambda x: (x == 'Contestado').sum() / x.count() * 100)\n",
    ").reset_index()\n",
    "\n",
    "# Establecer el objetivo (porcentaje de solicitudes resueltas)\n",
    "kpi_resueltas['objetivo'] = 75  # Ejemplo de objetivo: 75%\n",
    "\n",
    "# Inserción en la tabla kpi_porcentaje_resueltas\n",
    "for index, row in kpi_resueltas.iterrows():\n",
    "    cursor.execute(\"\"\"\n",
    "    INSERT INTO kpi_porcentaje_resueltas (trimestre, año, porcentaje_resueltas, objetivo)\n",
    "    VALUES (%s, %s, %s, %s)\n",
    "    \"\"\", (row['trimestre'], row['año'], row['porcentaje_resueltas'], row['objetivo']))\n",
    "\n",
    "connection.commit()"
   ]
  },
  {
   "cell_type": "markdown",
   "metadata": {},
   "source": [
    "KPI 3: Reducción de Solicitudes por Origen (LIBRO)"
   ]
  },
  {
   "cell_type": "code",
   "execution_count": null,
   "metadata": {},
   "outputs": [
    {
     "name": "stdout",
     "output_type": "stream",
     "text": [
      "Cantidad de solicitudes LIBRO por trimestre y año:\n",
      "    trimestre   año  cantidad_libro\n",
      "0           1  2020              32\n",
      "1           1  2021              21\n",
      "2           1  2022              59\n",
      "3           1  2023              13\n",
      "4           2  2020               2\n",
      "5           2  2021              39\n",
      "6           2  2022              39\n",
      "7           2  2023              22\n",
      "8           3  2020              48\n",
      "9           3  2021              33\n",
      "10          3  2022              26\n",
      "11          3  2023              17\n",
      "12          4  2020              33\n",
      "13          4  2021              34\n",
      "14          4  2022              31\n",
      "15          4  2023              10\n",
      "Total de solicitudes por trimestre y año:\n",
      "    trimestre   año  total_solicitudes\n",
      "0           1  2020                177\n",
      "1           1  2021                327\n",
      "2           1  2022                325\n",
      "3           1  2023                284\n",
      "4           2  2020                209\n",
      "5           2  2021                268\n",
      "6           2  2022                291\n",
      "7           2  2023                281\n",
      "8           3  2020                284\n",
      "9           3  2021                289\n",
      "10          3  2022                298\n",
      "11          3  2023                266\n",
      "12          4  2020                298\n",
      "13          4  2021                326\n",
      "14          4  2022                258\n",
      "15          4  2023                281\n",
      "Porcentaje de solicitudes LIBRO por trimestre y año:\n",
      "    trimestre   año  cantidad_libro  total_solicitudes  porcentaje_libro\n",
      "0           1  2020              32                177         18.079096\n",
      "1           1  2021              21                327          6.422018\n",
      "2           1  2022              59                325         18.153846\n",
      "3           1  2023              13                284          4.577465\n",
      "4           2  2020               2                209          0.956938\n",
      "5           2  2021              39                268         14.552239\n",
      "6           2  2022              39                291         13.402062\n",
      "7           2  2023              22                281          7.829181\n",
      "8           3  2020              48                284         16.901408\n",
      "9           3  2021              33                289         11.418685\n",
      "10          3  2022              26                298          8.724832\n",
      "11          3  2023              17                266          6.390977\n",
      "12          4  2020              33                298         11.073826\n",
      "13          4  2021              34                326         10.429448\n",
      "14          4  2022              31                258         12.015504\n",
      "15          4  2023              10                281          3.558719\n",
      "Datos finales listos para la inserción:\n",
      "    trimestre   año  cantidad_libro  total_solicitudes  porcentaje_libro  \\\n",
      "0           1  2020              32                177         18.079096   \n",
      "4           2  2020               2                209          0.956938   \n",
      "8           3  2020              48                284         16.901408   \n",
      "12          4  2020              33                298         11.073826   \n",
      "1           1  2021              21                327          6.422018   \n",
      "5           2  2021              39                268         14.552239   \n",
      "9           3  2021              33                289         11.418685   \n",
      "13          4  2021              34                326         10.429448   \n",
      "2           1  2022              59                325         18.153846   \n",
      "6           2  2022              39                291         13.402062   \n",
      "10          3  2022              26                298          8.724832   \n",
      "14          4  2022              31                258         12.015504   \n",
      "3           1  2023              13                284          4.577465   \n",
      "7           2  2023              22                281          7.829181   \n",
      "11          3  2023              17                266          6.390977   \n",
      "15          4  2023              10                281          3.558719   \n",
      "\n",
      "    porcentaje_libro_anterior  objetivo_reduccion  \n",
      "0                    0.000000            0.000000  \n",
      "4                   18.079096           16.271186  \n",
      "8                    0.956938            0.861244  \n",
      "12                  16.901408           15.211268  \n",
      "1                   11.073826            9.966443  \n",
      "5                    6.422018            5.779817  \n",
      "9                   14.552239           13.097015  \n",
      "13                  11.418685           10.276817  \n",
      "2                   10.429448            9.386503  \n",
      "6                   18.153846           16.338462  \n",
      "10                  13.402062           12.061856  \n",
      "14                   8.724832            7.852349  \n",
      "3                   12.015504           10.813953  \n",
      "7                    4.577465            4.119718  \n",
      "11                   7.829181            7.046263  \n",
      "15                   6.390977            5.751880  \n",
      "Datos insertados en la tabla kpi_distribucion_origen correctamente.\n"
     ]
    }
   ],
   "source": [
    "# Paso 1: Calcular la cantidad de solicitudes LIBRO por trimestre y año\n",
    "kpi_libro = df[df['Origen'] == 'LIBRO'].groupby(['trimestre', 'año']).agg(\n",
    "    cantidad_libro=pd.NamedAgg(column='Estado', aggfunc='count')\n",
    ").reset_index()\n",
    "\n",
    "# Paso 2: Calcular el total de solicitudes por trimestre y año\n",
    "total_solicitudes_trimestre = df.groupby(['trimestre', 'año']).agg(\n",
    "    total_solicitudes=pd.NamedAgg(column='Estado', aggfunc='count')\n",
    ").reset_index()\n",
    "\n",
    "# Comprobación visual de los datos antes de realizar el merge\n",
    "print(\"Cantidad de solicitudes LIBRO por trimestre y año:\")\n",
    "print(kpi_libro)\n",
    "print(\"Total de solicitudes por trimestre y año:\")\n",
    "print(total_solicitudes_trimestre)\n",
    "\n",
    "# Paso 3: Merge para agregar el total de solicitudes al DataFrame kpi_libro\n",
    "kpi_libro = kpi_libro.merge(total_solicitudes_trimestre, on=['trimestre', 'año'], how='left')\n",
    "\n",
    "# Paso 4: Calcular el porcentaje de solicitudes LIBRO respecto al total de solicitudes del trimestre\n",
    "kpi_libro['porcentaje_libro'] = (kpi_libro['cantidad_libro'] / kpi_libro['total_solicitudes']) * 100\n",
    "\n",
    "# Comprobación visual del porcentaje\n",
    "print(\"Porcentaje de solicitudes LIBRO por trimestre y año:\")\n",
    "print(kpi_libro[['trimestre', 'año', 'cantidad_libro', 'total_solicitudes', 'porcentaje_libro']])\n",
    "\n",
    "# Paso 5: Calcular el porcentaje de LIBRO del trimestre anterior para establecer el objetivo\n",
    "# Ordenar el DataFrame por 'año' y 'trimestre' antes de aplicar el shift para calcular el objetivo de reducción\n",
    "kpi_libro = kpi_libro.sort_values(by=['año', 'trimestre'])\n",
    "kpi_libro['porcentaje_libro_anterior'] = kpi_libro['porcentaje_libro'].shift(1)\n",
    "\n",
    "# Paso 6: Calcular el objetivo de reducción como un 10% menos que el porcentaje del trimestre anterior\n",
    "# Si es el primer trimestre del año (no hay valor anterior), el objetivo será 0 por defecto\n",
    "kpi_libro['objetivo_reduccion'] = kpi_libro['porcentaje_libro_anterior'] * 0.90\n",
    "\n",
    "# Asegurarse de que no haya valores NaN antes de la inserción, especialmente en la columna 'objetivo_reduccion'\n",
    "kpi_libro = kpi_libro.fillna(0)  # Reemplazar NaN por 0 u otro valor adecuado según el contexto\n",
    "\n",
    "# Paso 7: Verificación final de los datos antes de la inserción\n",
    "print(\"Datos finales listos para la inserción:\")\n",
    "print(kpi_libro[['trimestre', 'año', 'cantidad_libro', 'total_solicitudes', 'porcentaje_libro', 'porcentaje_libro_anterior', 'objetivo_reduccion']])\n",
    "\n",
    "# Paso 8: Insertar los datos en la tabla kpi_distribucion_origen\n",
    "for index, row in kpi_libro.iterrows():\n",
    "    cursor.execute(\"\"\"\n",
    "    INSERT INTO kpi_distribucion_origen (trimestre, año, origen, cantidad, total_solicitudes, porcentaje, objetivo)\n",
    "    VALUES (%s, %s, %s, %s, %s, %s, %s)\n",
    "    \"\"\", (\n",
    "        int(row['trimestre']),\n",
    "        int(row['año']),\n",
    "        'LIBRO',  # El origen es LIBRO, ya que es lo que se está midiendo\n",
    "        int(row['cantidad_libro']),  # Cantidad de solicitudes LIBRO en ese trimestre\n",
    "        int(row['total_solicitudes']),  # Total de solicitudes en ese trimestre\n",
    "        float(row['porcentaje_libro']),  # Porcentaje de solicitudes LIBRO respecto al total\n",
    "        float(row['objetivo_reduccion'])  # Objetivo de reducción para el siguiente trimestre\n",
    "    ))\n",
    "\n",
    "# Confirmar las transacciones y cerrar la conexión\n",
    "connection.commit()\n",
    "print(\"Datos insertados en la tabla kpi_distribucion_origen correctamente.\")\n"
   ]
  },
  {
   "cell_type": "code",
   "execution_count": null,
   "metadata": {},
   "outputs": [
    {
     "data": {
      "text/plain": [
       "Origen\n",
       "WEB             2382\n",
       "Servicio 012     954\n",
       "ESCRITO          465\n",
       "LIBRO            459\n",
       "OAMR             175\n",
       "BUZON             26\n",
       "FAX                1\n",
       "Name: count, dtype: int64"
      ]
     },
     "execution_count": 62,
     "metadata": {},
     "output_type": "execute_result"
    }
   ],
   "source": [
    "df['Origen'].value_counts() #Guardar para un notebook de exploracion"
   ]
  },
  {
   "cell_type": "code",
   "execution_count": null,
   "metadata": {},
   "outputs": [
    {
     "name": "stdout",
     "output_type": "stream",
     "text": [
      "Archivo kpi_volumen_pendientes.json creado exitosamente.\n",
      "Archivo kpi_porcentaje_resueltas.json creado exitosamente.\n",
      "Archivo kpi_distribucion_origen.json creado exitosamente.\n"
     ]
    }
   ],
   "source": [
    "# kpi_volumen, kpi_resueltas, kpi_libro\n",
    "# Crear columna adicional 'año_trimestre' para usar en los gráficos\n",
    "kpi_volumen['año_trimestre'] = kpi_volumen['año'].astype(str) + \"-Q\" + kpi_volumen['trimestre'].astype(str)\n",
    "kpi_resueltas['año_trimestre'] = kpi_resueltas['año'].astype(str) + \"-Q\" + kpi_resueltas['trimestre'].astype(str)\n",
    "kpi_libro['año_trimestre'] = kpi_libro['año'].astype(str) + \"-Q\" + kpi_libro['trimestre'].astype(str)\n",
    "\n",
    "# 1. Generar el archivo JSON para 'kpi_volumen_pendientes'\n",
    "kpi_volumen_json = kpi_volumen[['trimestre', 'año', 'año_trimestre', 'volumen_pendientes', 'objetivo']]\n",
    "kpi_volumen_json.to_json('../amcharts/kpi_volumen_pendientes.json', orient='records', force_ascii=False)\n",
    "\n",
    "print(\"Archivo kpi_volumen_pendientes.json creado exitosamente.\")\n",
    "\n",
    "# 2. Generar el archivo JSON para 'kpi_porcentaje_resueltas'\n",
    "kpi_resueltas_json = kpi_resueltas[['trimestre', 'año', 'año_trimestre', 'porcentaje_resueltas', 'objetivo']]\n",
    "kpi_resueltas_json.to_json('../amcharts/kpi_porcentaje_resueltas.json', orient='records', force_ascii=False)\n",
    "\n",
    "\n",
    "print(\"Archivo kpi_porcentaje_resueltas.json creado exitosamente.\")\n",
    "\n",
    "# 3. Generar el archivo JSON para 'kpi_distribucion_origen'\n",
    "kpi_libro_json = kpi_libro[['trimestre', 'año', 'año_trimestre', 'cantidad_libro', 'total_solicitudes', 'porcentaje_libro', 'objetivo_reduccion']]\n",
    "kpi_libro_json.columns = ['trimestre', 'año', 'año_trimestre', 'cantidad', 'total_solicitudes', 'porcentaje', 'objetivo']\n",
    "kpi_libro_json.to_json('../amcharts/kpi_distribucion_origen.json', orient='records', force_ascii=False)\n",
    "\n",
    "\n",
    "print(\"Archivo kpi_distribucion_origen.json creado exitosamente.\")\n"
   ]
  },
  {
   "cell_type": "code",
   "execution_count": null,
   "metadata": {},
   "outputs": [
    {
     "name": "stdout",
     "output_type": "stream",
     "text": [
      "Tablas de KPIs creadas con columnas adicionales y datos cargados en MySQL correctamente.\n"
     ]
    }
   ],
   "source": [
    "# Confirmar las transacciones y cerrar la conexión\n",
    "connection.commit()\n",
    "cursor.close()\n",
    "connection.close()\n",
    "print(\"Tablas de KPIs creadas con columnas adicionales y datos cargados en MySQL correctamente.\")"
   ]
  }
 ],
 "metadata": {
  "kernelspec": {
   "display_name": "myenv",
   "language": "python",
   "name": "python3"
  },
  "language_info": {
   "codemirror_mode": {
    "name": "ipython",
    "version": 3
   },
   "file_extension": ".py",
   "mimetype": "text/x-python",
   "name": "python",
   "nbconvert_exporter": "python",
   "pygments_lexer": "ipython3",
   "version": "3.12.3"
  }
 },
 "nbformat": 4,
 "nbformat_minor": 2
}
