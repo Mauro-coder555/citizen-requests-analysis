{
 "cells": [
  {
   "cell_type": "code",
   "execution_count": null,
   "metadata": {},
   "outputs": [],
   "source": [
    "# Importar bibliotecas necesarias\n",
    "import pandas as pd\n",
    "import mysql.connector"
   ]
  },
  {
   "cell_type": "code",
   "execution_count": null,
   "metadata": {},
   "outputs": [],
   "source": [
    "\n",
    "# Leer el archivo CSV\n",
    "df = pd.read_csv('../data/requests.csv')\n",
    "\n",
    "\n",
    "# Mostrar las primeras filas para verificar los datos\n",
    "df.head()"
   ]
  },
  {
   "cell_type": "markdown",
   "metadata": {},
   "source": [
    "# Transformaciones con Pandas"
   ]
  },
  {
   "cell_type": "code",
   "execution_count": null,
   "metadata": {},
   "outputs": [],
   "source": [
    "\n",
    "# Convertir la fecha de la solicitud a formato datetime\n",
    "df['Fecha'] = pd.to_datetime(df['F.solicitud'], errors='coerce')\n",
    "\n",
    "# Crear columnas nuevas de mes y año\n",
    "df['mes'] = df['Fecha'].dt.month\n",
    "df['año'] = df['Fecha'].dt.year\n"
   ]
  },
  {
   "cell_type": "markdown",
   "metadata": {},
   "source": [
    "Cálculo de indicadores"
   ]
  },
  {
   "cell_type": "code",
   "execution_count": null,
   "metadata": {},
   "outputs": [],
   "source": [
    "# KPI Ejemplo: ¿Resoluciones rápidas?\n",
    "df['resolucion_rapida'] = df['Estado'].apply(lambda x: 1 if x == 'resuelto en menos de 5 días' else 0)\n",
    "\n",
    "# Ver el dataframe con las nuevas columnas y KPIs\n",
    "df.head()"
   ]
  },
  {
   "cell_type": "code",
   "execution_count": null,
   "metadata": {},
   "outputs": [],
   "source": [
    "# Conexión a MySQL\n",
    "DB_CONFIG = {\n",
    "    'host': 'localhost',\n",
    "    'user': 'user',\n",
    "    'password': 'password',\n",
    "    'database': 'data_db'\n",
    "    }"
   ]
  },
  {
   "cell_type": "code",
   "execution_count": null,
   "metadata": {},
   "outputs": [],
   "source": [
    "def load_data_to_mysql(df):\n",
    "    connection = mysql.connector.connect(\n",
    "        host=DB_CONFIG['host'],\n",
    "        user=DB_CONFIG['user'],\n",
    "        password=DB_CONFIG['password'],\n",
    "        database=DB_CONFIG['database']\n",
    "    )\n",
    "    cursor = connection.cursor()\n",
    "\n",
    "    # Insertar los datos procesados en la tabla MySQL\n",
    "    for _, row in df.iterrows():\n",
    "        cursor.execute(\"\"\"\n",
    "            INSERT INTO solicitudes_procesadas \n",
    "            (tipo, estado, fecha_solicitud, origen, unidad, provincia, referencia, mes, año, resolucion_rapida) \n",
    "            VALUES (%s, %s, %s, %s, %s, %s, %s, %s, %s, %s)\n",
    "        \"\"\", (\n",
    "            row['Tipo'], row['Estado'], row['Fecha'], row['Origen'], row['Unidad'], \n",
    "            row['Provincia'], row['Referencia'], row['mes'], row['año'], row['resolucion_rapida']\n",
    "        ))\n",
    "\n",
    "    # Confirmar la transacción\n",
    "    connection.commit()\n",
    "    cursor.close()\n",
    "    connection.close()\n",
    "    print(\"Datos cargados en MySQL correctamente.\")\n"
   ]
  },
  {
   "cell_type": "code",
   "execution_count": null,
   "metadata": {},
   "outputs": [],
   "source": [
    "\n",
    "# Ejecutar la función para cargar los datos en MySQL\n",
    "load_data_to_mysql(df)"
   ]
  }
 ],
 "metadata": {
  "language_info": {
   "name": "python"
  }
 },
 "nbformat": 4,
 "nbformat_minor": 2
}
