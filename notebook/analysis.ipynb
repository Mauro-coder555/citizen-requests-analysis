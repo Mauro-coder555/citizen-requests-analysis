{
 "cells": [
  {
   "cell_type": "code",
   "execution_count": 30,
   "metadata": {},
   "outputs": [
    {
     "ename": "ModuleNotFoundError",
     "evalue": "No module named 'mysql'",
     "output_type": "error",
     "traceback": [
      "\u001b[0;31m---------------------------------------------------------------------------\u001b[0m",
      "\u001b[0;31mModuleNotFoundError\u001b[0m                       Traceback (most recent call last)",
      "Cell \u001b[0;32mIn[30], line 3\u001b[0m\n\u001b[1;32m      1\u001b[0m \u001b[38;5;66;03m# Importar bibliotecas necesarias\u001b[39;00m\n\u001b[1;32m      2\u001b[0m \u001b[38;5;28;01mimport\u001b[39;00m \u001b[38;5;21;01mpandas\u001b[39;00m \u001b[38;5;28;01mas\u001b[39;00m \u001b[38;5;21;01mpd\u001b[39;00m\n\u001b[0;32m----> 3\u001b[0m \u001b[38;5;28;01mimport\u001b[39;00m \u001b[38;5;21;01mmysql\u001b[39;00m\u001b[38;5;21;01m.\u001b[39;00m\u001b[38;5;21;01mconnector\u001b[39;00m\n",
      "\u001b[0;31mModuleNotFoundError\u001b[0m: No module named 'mysql'"
     ]
    }
   ],
   "source": [
    "# Importar bibliotecas necesarias\n",
    "import pandas as pd\n",
    "import mysql.connector\n",
    "\n"
   ]
  },
  {
   "cell_type": "code",
   "execution_count": null,
   "metadata": {},
   "outputs": [],
   "source": [
    "\n",
    "# Leer el archivo CSV\n",
    "df = pd.read_csv('../data/requests.csv')\n",
    "\n",
    "\n",
    "# Mostrar las primeras filas para verificar los datos\n",
    "df.head()"
   ]
  },
  {
   "cell_type": "code",
   "execution_count": null,
   "metadata": {},
   "outputs": [],
   "source": [
    "# Verificar si hay valores nulos\n",
    "print(\"Valores nulos por columna:\")\n",
    "print(df.isnull().sum())\n",
    "\n",
    "# Eliminar duplicados si existen\n",
    "df = df.drop_duplicates()\n",
    "\n",
    "# Verificar tipos de datos\n",
    "print(\"Tipos de datos:\")\n",
    "print(df.dtypes)\n",
    "\n",
    "# Filtrar datos con fechas inválidas\n",
    "df = df[df['Fecha'].notnull()]\n",
    "\n",
    "# Volver a mostrar las primeras filas tras la limpieza\n",
    "df.head()\n"
   ]
  },
  {
   "cell_type": "markdown",
   "metadata": {},
   "source": [
    "# Transformaciones con Pandas"
   ]
  },
  {
   "cell_type": "code",
   "execution_count": null,
   "metadata": {},
   "outputs": [],
   "source": [
    "\n",
    "# Convertir la fecha de la solicitud a formato datetime\n",
    "df['Fecha'] = pd.to_datetime(df['F.solicitud'], errors='coerce')\n",
    "\n",
    "# Crear columnas nuevas de mes y año\n",
    "df['mes'] = df['Fecha'].dt.month\n",
    "df['año'] = df['Fecha'].dt.year\n"
   ]
  },
  {
   "cell_type": "markdown",
   "metadata": {},
   "source": [
    "Cálculo de indicadores"
   ]
  },
  {
   "cell_type": "code",
   "execution_count": null,
   "metadata": {},
   "outputs": [],
   "source": [
    "# KPI Ejemplo: ¿Resoluciones rápidas?\n",
    "df['resolucion_rapida'] = df['Estado'].apply(lambda x: 1 if x == 'resuelto en menos de 5 días' else 0)\n",
    "\n",
    "# Ver el dataframe con las nuevas columnas y KPIs\n",
    "df.head()"
   ]
  },
  {
   "cell_type": "code",
   "execution_count": null,
   "metadata": {},
   "outputs": [],
   "source": [
    "# Conexión a MySQL\n",
    "DB_CONFIG = {\n",
    "    'host': 'localhost',\n",
    "    'user': 'user',\n",
    "    'password': 'password',\n",
    "    'database': 'data_db'\n",
    "    }"
   ]
  },
  {
   "cell_type": "markdown",
   "metadata": {},
   "source": [
    " KPI 1: Tiempo promedio de resolución\n",
    "\n",
    "Supongamos que tienes una columna llamada F.resolucion que indica la fecha en que la solicitud fue resuelta."
   ]
  },
  {
   "cell_type": "code",
   "execution_count": null,
   "metadata": {},
   "outputs": [],
   "source": [
    "# Convertir la fecha de resolución a formato datetime\n",
    "df['Fecha_resolucion'] = pd.to_datetime(df['F.resolucion'], errors='coerce')\n",
    "\n",
    "# Calcular el tiempo de resolución en días\n",
    "df['tiempo_resolucion'] = (df['Fecha_resolucion'] - df['Fecha']).dt.days\n",
    "\n",
    "# Calcular el promedio de tiempo de resolución\n",
    "tiempo_promedio_resolucion = df['tiempo_resolucion'].mean()\n",
    "print(f\"Tiempo promedio de resolución: {tiempo_promedio_resolucion} días\")\n"
   ]
  },
  {
   "cell_type": "markdown",
   "metadata": {},
   "source": [
    "KPI 2: Solicitudes resueltas por mes/año"
   ]
  },
  {
   "cell_type": "code",
   "execution_count": null,
   "metadata": {},
   "outputs": [],
   "source": [
    "# Filtrar las solicitudes que han sido resueltas\n",
    "df_resueltas = df[df['Estado'].str.contains('resuelto', case=False, na=False)]\n",
    "\n",
    "# Agrupar por mes y año para obtener el total de solicitudes resueltas\n",
    "solicitudes_resueltas_mes_año = df_resueltas.groupby(['mes', 'año']).size().reset_index(name='total_resueltas')\n",
    "\n",
    "# Ver el resultado\n",
    "solicitudes_resueltas_mes_año.head()\n"
   ]
  },
  {
   "cell_type": "markdown",
   "metadata": {},
   "source": [
    "KPI 3: Tasa de resolución rápida"
   ]
  },
  {
   "cell_type": "code",
   "execution_count": null,
   "metadata": {},
   "outputs": [],
   "source": [
    "# Calcular la tasa de resoluciones rápidas\n",
    "tasa_resolucion_rapida = df['resolucion_rapida'].mean() * 100\n",
    "print(f\"Tasa de resolución rápida: {tasa_resolucion_rapida:.2f}%\")\n"
   ]
  },
  {
   "cell_type": "code",
   "execution_count": null,
   "metadata": {},
   "outputs": [],
   "source": [
    "def load_data_to_mysql(df):\n",
    "    connection = mysql.connector.connect(\n",
    "        host=DB_CONFIG['host'],\n",
    "        user=DB_CONFIG['user'],\n",
    "        password=DB_CONFIG['password'],\n",
    "        database=DB_CONFIG['database']\n",
    "    )\n",
    "    cursor = connection.cursor()\n",
    "\n",
    "    # Insertar los datos procesados en la tabla MySQL\n",
    "    for _, row in df.iterrows():\n",
    "        cursor.execute(\"\"\"\n",
    "            INSERT INTO solicitudes_procesadas \n",
    "            (tipo, estado, fecha_solicitud, origen, unidad, provincia, referencia, mes, año, resolucion_rapida, tiempo_resolucion) \n",
    "            VALUES (%s, %s, %s, %s, %s, %s, %s, %s, %s, %s, %s)\n",
    "        \"\"\", (\n",
    "            row['Tipo'], row['Estado'], row['Fecha'], row['Origen'], row['Unidad'], \n",
    "            row['Provincia'], row['Referencia'], row['mes'], row['año'], \n",
    "            row['resolucion_rapida'], row['tiempo_resolucion']\n",
    "        ))\n",
    "\n",
    "    # Confirmar la transacción\n",
    "    connection.commit()\n",
    "    cursor.close()\n",
    "    connection.close()\n",
    "    print(\"Datos cargados en MySQL correctamente.\")\n"
   ]
  },
  {
   "cell_type": "code",
   "execution_count": null,
   "metadata": {},
   "outputs": [],
   "source": [
    "def save_kpis_to_mysql(kpi_data):\n",
    "    connection = mysql.connector.connect(\n",
    "        host=DB_CONFIG['host'],\n",
    "        user=DB_CONFIG['user'],\n",
    "        password=DB_CONFIG['password'],\n",
    "        database=DB_CONFIG['database']\n",
    "    )\n",
    "    cursor = connection.cursor()\n",
    "\n",
    "    # Crear tabla si no existe\n",
    "    cursor.execute(\"\"\"\n",
    "        CREATE TABLE IF NOT EXISTS kpi_indicadores (\n",
    "            id INT AUTO_INCREMENT PRIMARY KEY,\n",
    "            tiempo_promedio_resolucion FLOAT,\n",
    "            total_resueltas_mes_año INT,\n",
    "            tasa_resolucion_rapida FLOAT\n",
    "        );\n",
    "    \"\"\")\n",
    "\n",
    "    # Insertar los KPIs calculados\n",
    "    cursor.execute(\"\"\"\n",
    "        INSERT INTO kpi_indicadores (tiempo_promedio_resolucion, total_resueltas_mes_año, tasa_resolucion_rapida)\n",
    "        VALUES (%s, %s, %s);\n",
    "    \"\"\", (\n",
    "        tiempo_promedio_resolucion, solicitudes_resueltas_mes_año['total_resueltas'].sum(), tasa_resolucion_rapida\n",
    "    ))\n",
    "\n",
    "    # Confirmar la transacción\n",
    "    connection.commit()\n",
    "    cursor.close()\n",
    "    connection.close()\n",
    "    print(\"KPIs guardados en MySQL correctamente.\")\n",
    "\n",
    "# Guardar los KPIs calculados\n",
    "save_kpis_to_mysql({\n",
    "    'tiempo_promedio_resolucion': tiempo_promedio_resolucion,\n",
    "    'total_resueltas_mes_año': solicitudes_resueltas_mes_año,\n",
    "    'tasa_resolucion_rapida': tasa_resolucion_rapida\n",
    "})\n"
   ]
  },
  {
   "cell_type": "code",
   "execution_count": null,
   "metadata": {},
   "outputs": [],
   "source": [
    "\n",
    "# Ejecutar la función para cargar los datos en MySQL\n",
    "load_data_to_mysql(df)"
   ]
  }
 ],
 "metadata": {
  "kernelspec": {
   "display_name": "Python 3",
   "language": "python",
   "name": "python3"
  },
  "language_info": {
   "codemirror_mode": {
    "name": "ipython",
    "version": 3
   },
   "file_extension": ".py",
   "mimetype": "text/x-python",
   "name": "python",
   "nbconvert_exporter": "python",
   "pygments_lexer": "ipython3",
   "version": "3.12.3"
  }
 },
 "nbformat": 4,
 "nbformat_minor": 2
}
